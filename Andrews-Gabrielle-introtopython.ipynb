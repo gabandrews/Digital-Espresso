{
 "cells": [
  {
   "cell_type": "markdown",
   "metadata": {},
   "source": [
    "190258  \n",
    "Andrews  \n",
    "2 BS ITE"
   ]
  },
  {
   "cell_type": "code",
   "execution_count": null,
   "metadata": {},
   "outputs": [],
   "source": [
    "def three_number_average(num1, num2, num3):\n",
    "    average = (num1 + num2 + num3) /3\n",
    "    return average"
   ]
  },
  {
   "cell_type": "code",
   "execution_count": 4,
   "metadata": {},
   "outputs": [
    {
     "name": "stdout",
     "output_type": "stream",
     "text": [
      "Enter first number:1\n",
      "Enter second number: 2\n",
      "Enter third number: 3\n",
      "The average is  2.0\n"
     ]
    }
   ],
   "source": [
    "num1 = int(input(\"Enter first number:\"))\n",
    "assert num1 > 0\n",
    "num2 = int(input(\"Enter second number: \"))\n",
    "assert num2 > 0\n",
    "num3 = int(input(\"Enter third number: \"))\n",
    "assert num3 > 0\n",
    "\n",
    "print(\"The average is \", three_number_average(num1, num2, num3))"
   ]
  },
  {
   "cell_type": "code",
   "execution_count": 5,
   "metadata": {},
   "outputs": [
    {
     "name": "stdout",
     "output_type": "stream",
     "text": [
      "Enter first number:1\n",
      "Enter second number: 1\n",
      "Enter third number: 1\n",
      "The average is  1.0\n"
     ]
    }
   ],
   "source": [
    "num1 = int(input(\"Enter first number:\"))\n",
    "assert num1 > 0\n",
    "num2 = int(input(\"Enter second number: \"))\n",
    "assert num2 > 0\n",
    "num3 = int(input(\"Enter third number: \"))\n",
    "assert num3 > 0\n",
    "\n",
    "print(\"The average is \", three_number_average(num1, num2, num3))"
   ]
  },
  {
   "cell_type": "code",
   "execution_count": 6,
   "metadata": {},
   "outputs": [
    {
     "name": "stdout",
     "output_type": "stream",
     "text": [
      "Enter first number:2\n",
      "Enter second number: 4\n",
      "Enter third number: 6\n",
      "The average is  4.0\n"
     ]
    }
   ],
   "source": [
    "num1 = int(input(\"Enter first number:\"))\n",
    "assert num1 > 0\n",
    "num2 = int(input(\"Enter second number: \"))\n",
    "assert num2 > 0\n",
    "num3 = int(input(\"Enter third number: \"))\n",
    "assert num3 > 0\n",
    "\n",
    "print(\"The average is \", three_number_average(num1, num2, num3))"
   ]
  },
  {
   "cell_type": "code",
   "execution_count": null,
   "metadata": {},
   "outputs": [],
   "source": []
  }
 ],
 "metadata": {
  "kernelspec": {
   "display_name": "Python 3",
   "language": "python",
   "name": "python3"
  }
 },
 "nbformat": 4,
 "nbformat_minor": 4
}
