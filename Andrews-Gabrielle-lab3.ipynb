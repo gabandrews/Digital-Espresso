{
 "cells": [
  {
   "cell_type": "markdown",
   "metadata": {},
   "source": [
    "190258  \n",
    "Andrews  \n",
    "2 BS ITE"
   ]
  },
  {
   "cell_type": "code",
   "execution_count": 3,
   "metadata": {},
   "outputs": [
    {
     "name": "stdout",
     "output_type": "stream",
     "text": [
      "From: @jobenilagan\n",
      "To: @chums\n",
      "@jobenilagan is a Follower of @chums\n"
     ]
    }
   ],
   "source": [
    "social_graph = {\n",
    "    \"@bongolpoc\":{\"first_name\":\"Joselito\",\n",
    "                  \"last_name\":\"Olpoc\",\n",
    "                  \"following\":[\n",
    "                  ]\n",
    "    },\n",
    "    \"@joaquin\":  {\"first_name\":\"Joaquin\",\n",
    "                  \"last_name\":\"Gonzales\",\n",
    "                  \"following\":[\n",
    "                      \"@chums\",\"@jobenilagan\"\n",
    "                  ]\n",
    "    },\n",
    "    \"@chums\" : {\"first_name\":\"Matthew\",\n",
    "                \"last_name\":\"Uy\",\n",
    "                \"following\":[\n",
    "                    \"@bongolpoc\",\"@miketan\",\"@rudyang\",\"@joeilagan\"\n",
    "                ]\n",
    "    },\n",
    "    \"@jobenilagan\":{\"first_name\":\"Joben\",\n",
    "                    \"last_name\":\"Ilagan\",\n",
    "                    \"following\":[\n",
    "                    \"@eeebeee\",\"@joeilagan\",\"@chums\",\"@joaquin\"\n",
    "                    ]\n",
    "    },\n",
    "    \"@joeilagan\":{\"first_name\":\"Joe\",\n",
    "                  \"last_name\":\"Ilagan\",\n",
    "                  \"following\":[\n",
    "                    \"@eeebeee\",\"@jobenilagan\",\"@chums\"\n",
    "                  ]\n",
    "    },\n",
    "    \"@eeebeee\":  {\"first_name\":\"Elizabeth\",\n",
    "                  \"last_name\":\"Ilagan\",\n",
    "                  \"following\":[\n",
    "                    \"@jobenilagan\",\"@joeilagan\"\n",
    "                  ]\n",
    "    },\n",
    "}\n",
    "\n",
    "def relationship_status(from_member, to_member):\n",
    "    follower = followed = False\n",
    "    relation = None\n",
    "    if to_member in social_graph[from_member][\"following\"]:\n",
    "        follower = True\n",
    "    if from_member in social_graph[to_member][\"following\"]:\n",
    "        followed = True\n",
    "\n",
    "    if follower == True and followed == True:\n",
    "        relation = \"is Friends with\"\n",
    "    elif follower == True and followed == False:\n",
    "        relation = \"is a Follower of\"\n",
    "    elif follower == False and followed == True:\n",
    "        relation = \"is Followed by\"\n",
    "    else:\n",
    "        relation = None\n",
    "    return relation\n",
    "\n",
    "from_member = input(\"From: \")\n",
    "to_member = input(\"To: \")\n",
    "print(from_member, relationship_status(from_member, to_member), to_member)"
   ]
  },
  {
   "cell_type": "code",
   "execution_count": 6,
   "metadata": {},
   "outputs": [],
   "source": [
    "board1 = [\n",
    "['X','X','O'],\n",
    "['O','X','O'],\n",
    "['O','','X'],\n",
    "]\n",
    "\n",
    "board2 = [\n",
    "['X','X','O'],\n",
    "['O','X','O'],\n",
    "['','O','X'],\n",
    "]\n",
    "\n",
    "board3 = [\n",
    "['O','X','O'],\n",
    "['','O','X'],\n",
    "['X','X','O'],\n",
    "]\n",
    "\n",
    "board4 = [\n",
    "['X','X','X'],\n",
    "['O','X','O'],\n",
    "['O','','O'],\n",
    "]\n",
    "\n",
    "board5 = [\n",
    "['X','X','O'],\n",
    "['O','X','O'],\n",
    "['X','','O'],\n",
    "]\n",
    "\n",
    "board6 = [\n",
    "['X','X','O'],\n",
    "['O','X','O'],\n",
    "['X','',''],\n",
    "]\n",
    "\n",
    "def get_winner(board):\n",
    "    for row in board:\n",
    "        if all([x == 'X' for x in row]):\n",
    "            return 'X'\n",
    "        if all([o == 'O' for o in row]):\n",
    "            return 'O'\n",
    "        \n",
    "    for column in zip(*board):\n",
    "        if all(x == 'X' for x in column):\n",
    "            return 'X'\n",
    "        if all(o == 'O' for o in column):\n",
    "            return 'O'\n",
    "    \n",
    "    diagonal = [board[i][i] for i in range(0,3)]\n",
    "    if all(x == 'X' for x in diagonal):\n",
    "        return 'X'\n",
    "    if all(o == 'O' for o in diagonal):\n",
    "        return 'O'\n",
    "    diagonal2 = [board[i][2-i] for i in range(0,3)]\n",
    "    if all(x == 'X' for x in diagonal2):\n",
    "        return 'X'\n",
    "    if all(o == 'O' for o in diagonal2):\n",
    "        return 'O'\n",
    "\n",
    "    return \"Tie\""
   ]
  },
  {
   "cell_type": "code",
   "execution_count": 9,
   "metadata": {},
   "outputs": [
    {
     "data": {
      "text/plain": [
       "'O'"
      ]
     },
     "execution_count": 9,
     "metadata": {},
     "output_type": "execute_result"
    }
   ],
   "source": [
    "get_winner(board5)"
   ]
  },
  {
   "cell_type": "code",
   "execution_count": 11,
   "metadata": {},
   "outputs": [
    {
     "name": "stdout",
     "output_type": "stream",
     "text": [
      "Enter Source: upd\n",
      "Enter Destination: dlsu\n",
      "ETA: 45\n"
     ]
    }
   ],
   "source": [
    "locations = {\n",
    "    \"admu\":{\n",
    "        \"name\":\"Ateneo de Manila University\",\n",
    "        \"latitude\":14.6394557,\n",
    "        \"longitude\":121.0758975        \n",
    "    },\n",
    "    \"upd\":{\n",
    "        \"name\":\"University of the Philippines-Diliman Campus\",\n",
    "        \"latitude\":14.6538519,\n",
    "        \"longitude\":121.0663348\n",
    "    },\n",
    "    \"dlsu\":{\n",
    "        \"name\":\"De La Salle University-Taft\",\n",
    "        \"latitude\":14.5647346,\n",
    "        \"longitude\":120.9909876\n",
    "\n",
    "    },\n",
    "}\n",
    "\n",
    "legs = {\n",
    "      (\"upd\",\"admu\"):{\n",
    "          \"travel_time_mins\":10\n",
    "      },\n",
    "      (\"admu\",\"dlsu\"):{\n",
    "          \"travel_time_mins\":35\n",
    "      },\n",
    "      (\"dlsu\",\"upd\"):{\n",
    "          \"travel_time_mins\":55\n",
    "      }\n",
    "}\n",
    "\n",
    "def ETA(source,destination):\n",
    "    time = 0\n",
    "    for i in legs.keys():\n",
    "        if source == i[0] and source != destination:\n",
    "            time += legs[i][\"travel_time_mins\"]\n",
    "            if source == i[1]: break\n",
    "            else:   \n",
    "                source = i[1]\n",
    "    ETA = 'ETA: ' + str(time)\n",
    "    return ETA\n",
    "\n",
    "source = input('Enter Source: ')\n",
    "destination = input('Enter Destination: ')\n",
    "print(ETA(source, destination))"
   ]
  }
 ],
 "metadata": {
  "kernelspec": {
   "display_name": "Python 3",
   "language": "python",
   "name": "python3"
  },
  "language_info": {
   "codemirror_mode": {
    "name": "ipython",
    "version": 3
   },
   "file_extension": ".py",
   "mimetype": "text/x-python",
   "name": "python",
   "nbconvert_exporter": "python",
   "pygments_lexer": "ipython3",
   "version": "3.8.3"
  }
 },
 "nbformat": 4,
 "nbformat_minor": 4
}
