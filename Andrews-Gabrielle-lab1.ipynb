{
 "cells": [
  {
   "cell_type": "markdown",
   "metadata": {},
   "source": [
    "190258\n",
    "Andrews\n",
    "2 BS ITE"
   ]
  },
  {
   "cell_type": "code",
   "execution_count": 1,
   "metadata": {},
   "outputs": [
    {
     "name": "stdout",
     "output_type": "stream",
     "text": [
      "Enter the amount in US Dollars: 1\n",
      "1 US Dollar(s) =  50 Philippine Pesos.\n"
     ]
    }
   ],
   "source": [
    "#PROBLEM 1\n",
    "def dollars_to_pesos(USD):\n",
    "    PHP = USD * 50\n",
    "    return PHP\n",
    "\n",
    "USD = (int(input(\"Enter the amount in US Dollars: \")))\n",
    "print(USD, \"US Dollar(s) = \", dollars_to_pesos(USD), \"Philippine Pesos.\")"
   ]
  },
  {
   "cell_type": "code",
   "execution_count": 2,
   "metadata": {},
   "outputs": [
    {
     "name": "stdout",
     "output_type": "stream",
     "text": [
      "Enter the amount in US Dollars: 20\n",
      "20 US Dollar(s) =  1000 Philippine Pesos.\n"
     ]
    }
   ],
   "source": [
    "USD = (int(input(\"Enter the amount in US Dollars: \")))\n",
    "print(USD, \"US Dollar(s) = \", dollars_to_pesos(USD), \"Philippine Pesos.\")"
   ]
  },
  {
   "cell_type": "code",
   "execution_count": 3,
   "metadata": {},
   "outputs": [
    {
     "name": "stdout",
     "output_type": "stream",
     "text": [
      "55\n",
      "3\n",
      "58\n",
      "52\n",
      "165\n",
      "18\n",
      "1\n"
     ]
    }
   ],
   "source": [
    "#PROBLEM 2\n",
    "a = int(input())\n",
    "b = int(input())\n",
    "\n",
    "print(a+b)\n",
    "print(a-b)\n",
    "print(a*b)\n",
    "print(int(a/b))\n",
    "print(a%b)"
   ]
  },
  {
   "cell_type": "code",
   "execution_count": 4,
   "metadata": {},
   "outputs": [
    {
     "name": "stdout",
     "output_type": "stream",
     "text": [
      "128\n",
      "8\n",
      "136\n",
      "120\n",
      "1024\n",
      "16\n",
      "0\n"
     ]
    }
   ],
   "source": [
    "a = int(input())\n",
    "b = int(input())\n",
    "\n",
    "print(a+b)\n",
    "print(a-b)\n",
    "print(a*b)\n",
    "print(int(a/b))\n",
    "print(a%b)"
   ]
  },
  {
   "cell_type": "code",
   "execution_count": 5,
   "metadata": {},
   "outputs": [
    {
     "name": "stdout",
     "output_type": "stream",
     "text": [
      "Enter kg: 65\n",
      "Enter cm: 180\n",
      "BMI:  20.061728395061728\n"
     ]
    }
   ],
   "source": [
    "#PROBLEM 3\n",
    "def compute_bmi(kg, m):\n",
    "    m = convert_cm_to_m(m)\n",
    "    bmi = kg / (m**2)\n",
    "    return bmi\n",
    "def convert_cm_to_m(cm):\n",
    "    m = cm / 100\n",
    "    return m\n",
    "\n",
    "kg = int(input(\"Enter kg: \"))\n",
    "m = int(input(\"Enter cm: \"))\n",
    "print(\"BMI: \", compute_bmi(kg, m)) "
   ]
  },
  {
   "cell_type": "code",
   "execution_count": 6,
   "metadata": {},
   "outputs": [
    {
     "name": "stdout",
     "output_type": "stream",
     "text": [
      "Enter kg: 67\n",
      "Enter cm: 178\n",
      "BMI:  21.146319909102385\n"
     ]
    }
   ],
   "source": [
    "kg = int(input(\"Enter kg: \"))\n",
    "m = int(input(\"Enter cm: \"))\n",
    "print(\"BMI: \", compute_bmi(kg, m)) "
   ]
  },
  {
   "cell_type": "code",
   "execution_count": 7,
   "metadata": {},
   "outputs": [
    {
     "name": "stdout",
     "output_type": "stream",
     "text": [
      "Enter kg: 70\n",
      "Enter cm: 170\n",
      "BMI:  24.221453287197235\n"
     ]
    }
   ],
   "source": [
    "kg = int(input(\"Enter kg: \"))\n",
    "m = int(input(\"Enter cm: \"))\n",
    "print(\"BMI: \", compute_bmi(kg, m)) "
   ]
  },
  {
   "cell_type": "code",
   "execution_count": null,
   "metadata": {},
   "outputs": [],
   "source": []
  }
 ],
 "metadata": {
  "kernelspec": {
   "display_name": "Python 3",
   "language": "python",
   "name": "python3"
  },
  "language_info": {
   "codemirror_mode": {
    "name": "ipython",
    "version": 3
   },
   "file_extension": ".py",
   "mimetype": "text/x-python",
   "name": "python",
   "nbconvert_exporter": "python",
   "pygments_lexer": "ipython3",
   "version": "3.8.3"
  }
 },
 "nbformat": 4,
 "nbformat_minor": 4
}
